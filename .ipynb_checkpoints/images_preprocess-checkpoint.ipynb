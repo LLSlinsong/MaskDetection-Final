{
 "cells": [
  {
   "cell_type": "code",
   "execution_count": null,
   "id": "7f154723",
   "metadata": {},
   "outputs": [],
   "source": [
    "import cv2\n",
    "import numpy as np\n",
    "import matplotlib.pyplot as plt\n",
    "%matplotlib inline\n",
    "img = cv2.imread('./test_imgs/mask_people.jpg')\n",
    "plt.imshow(cv2.cvtColor(img,cv2.COLOR_BGR2RGB))"
   ]
  },
  {
   "cell_type": "code",
   "execution_count": null,
   "id": "cc848cf9",
   "metadata": {},
   "outputs": [],
   "source": [
    "#加载SSD模型\n",
    "face_detector = cv2.dnn.readNetFromCaffe('./weights/deploy.prototxt.txt','weights/res10_300x300_ssd_iter_140000.caffemodel')"
   ]
  },
  {
   "cell_type": "code",
   "execution_count": null,
   "id": "8b902449",
   "metadata": {},
   "outputs": [],
   "source": [
    "# 转为Blob\n",
    "img_blob = cv2.dnn.blobFromImage(img,1,(300,300),(104,177,123),swapRB=True)"
   ]
  },
  {
   "cell_type": "code",
   "execution_count": null,
   "id": "42e3b9f9",
   "metadata": {},
   "outputs": [],
   "source": [
    "# 输入\n",
    "face_detector.setInput(img_blob)"
   ]
  },
  {
   "cell_type": "code",
   "execution_count": null,
   "id": "4aec05e2",
   "metadata": {},
   "outputs": [],
   "source": [
    "# 推理\n",
    "detections = face_detector.forward()"
   ]
  },
  {
   "cell_type": "code",
   "execution_count": null,
   "id": "d262a76f",
   "metadata": {},
   "outputs": [],
   "source": [
    "detections.shape"
   ]
  },
  {
   "cell_type": "code",
   "execution_count": null,
   "id": "c3ff5c85",
   "metadata": {},
   "outputs": [],
   "source": [
    "# 人数\n",
    "person_count = detections.shape[2]\n"
   ]
  },
  {
   "cell_type": "code",
   "execution_count": null,
   "id": "7a655bd2",
   "metadata": {},
   "outputs": [],
   "source": [
    "person_count"
   ]
  },
  {
   "cell_type": "code",
   "execution_count": null,
   "id": "008d727a",
   "metadata": {},
   "outputs": [],
   "source": [
    "# 人脸检测函数\n",
    "def face_detect(img):\n",
    "    #转为Blob\n",
    "    img_blob = cv2.dnn.blobFromImage(img,1,(300,300),(104,177,123),swapRB=True)\n",
    "    # 输入\n",
    "    face_detector.setInput(img_blob)\n",
    "    # 推理\n",
    "    detections = face_detector.forward()\n",
    "    # 获取原图尺寸\n",
    "    img_h,img_w = img.shape[:2]\n",
    "    \n",
    "    # 人脸数量\n",
    "    person_count = detections.shape[2]\n",
    "\n",
    "    for face_index in range(person_count):\n",
    "        # 置信度\n",
    "        confidence = detections[0,0,face_index,2]\n",
    "        if confidence > 0.5:\n",
    "            locations = detections[0,0,face_index,3:7] * np.array([img_w,img_h,img_w,img_h])\n",
    "            # 取证\n",
    "            l,t,r,b = locations.astype('int')\n",
    "            # cv2.rectangle(img,(l,t),(r,b),(0,255,0),5)\n",
    "            return img[t:b,l:r]\n",
    "    return None"
   ]
  },
  {
   "cell_type": "code",
   "execution_count": null,
   "id": "67883894",
   "metadata": {},
   "outputs": [],
   "source": [
    "# 测试图片\n",
    "img_new = cv2.imread('./images/1.yes/0_0_0 copy 52.jpg')"
   ]
  },
  {
   "cell_type": "code",
   "execution_count": null,
   "id": "08e969cb",
   "metadata": {},
   "outputs": [],
   "source": [
    "face_crop = face_detect(img_new)"
   ]
  },
  {
   "cell_type": "code",
   "execution_count": null,
   "id": "1df60c7f",
   "metadata": {},
   "outputs": [],
   "source": [
    "face_crop.shape"
   ]
  },
  {
   "cell_type": "code",
   "execution_count": null,
   "id": "4e264711",
   "metadata": {},
   "outputs": [],
   "source": [
    "# 显示图片\n",
    "plt.imshow(cv2.cvtColor(face_crop,cv2.COLOR_BGR2RGB))"
   ]
  },
  {
   "cell_type": "code",
   "execution_count": null,
   "id": "e347673a",
   "metadata": {},
   "outputs": [],
   "source": [
    "# 转为Blob的函数\n",
    "def imgBlob(img):\n",
    "    # 转为Blob\n",
    "    img_blob = cv2.dnn.blobFromImage(img,1,(100,100),(104,177,123),swapRB=True)\n",
    "    # 压缩维度\n",
    "    img_squeeze = np.squeeze(img_blob).T\n",
    "    # 旋转\n",
    "    img_rotate = cv2.rotate(img_squeeze,cv2.ROTATE_90_CLOCKWISE)\n",
    "    # 镜像\n",
    "    img_flip =  cv2.flip(img_rotate,1)\n",
    "    # 去除负数，并归一化\n",
    "    img_blob = np.maximum(img_flip,0) / img_flip.max()\n",
    "    return img_blob"
   ]
  },
  {
   "cell_type": "code",
   "execution_count": null,
   "id": "f86669e7",
   "metadata": {},
   "outputs": [],
   "source": [
    "img_test = cv2.imread('./images/1.yes/0_0_0 copy 52.jpg')"
   ]
  },
  {
   "cell_type": "code",
   "execution_count": null,
   "id": "7dec769f",
   "metadata": {},
   "outputs": [],
   "source": [
    "img_blob = imgBlob(img_test)"
   ]
  },
  {
   "cell_type": "code",
   "execution_count": null,
   "id": "f4aa0e1e",
   "metadata": {},
   "outputs": [],
   "source": [
    "img_blob.max(),img_blob.min()"
   ]
  },
  {
   "cell_type": "code",
   "execution_count": null,
   "id": "7a8241a7",
   "metadata": {},
   "outputs": [],
   "source": [
    "img_blob.shape"
   ]
  },
  {
   "cell_type": "code",
   "execution_count": null,
   "id": "e4387e20",
   "metadata": {},
   "outputs": [],
   "source": [
    "# 显示图片\n",
    "plt.imshow(img_blob)"
   ]
  },
  {
   "cell_type": "code",
   "execution_count": null,
   "id": "a282c325",
   "metadata": {},
   "outputs": [],
   "source": [
    "import os,glob"
   ]
  },
  {
   "cell_type": "code",
   "execution_count": null,
   "id": "d8af3ed1",
   "metadata": {},
   "outputs": [],
   "source": [
    "import tqdm"
   ]
  },
  {
   "cell_type": "code",
   "execution_count": null,
   "id": "4673c303",
   "metadata": {},
   "outputs": [],
   "source": [
    "labels = os.listdir('images/')"
   ]
  },
  {
   "cell_type": "code",
   "execution_count": null,
   "id": "5704001b",
   "metadata": {},
   "outputs": [],
   "source": [
    "img_list = []\n",
    "label_list = []\n",
    "for label in labels:\n",
    "    # 获取每类文件列表\n",
    "    file_list =glob.glob('images/%s/*.jpg' % (label))\n",
    "    \n",
    "    for img_file in tqdm.tqdm( file_list ,desc = \"处理 %s \"  % (label)):\n",
    "        # 读取文件\n",
    "        img = cv2.imread(img_file)\n",
    "        # 裁剪人脸\n",
    "        img_crop = face_detect(img)\n",
    "        # 判断空的情况\n",
    "        if img_crop is not None:\n",
    "            # 转为Blob\n",
    "            img_blob = imgBlob(img_crop)\n",
    "            img_list.append(img_blob)\n",
    "            label_list.append(label)"
   ]
  },
  {
   "cell_type": "code",
   "execution_count": null,
   "id": "93e4e740",
   "metadata": {},
   "outputs": [],
   "source": [
    "# 转为numpy数据\n",
    "X = np.asarray(img_list)\n",
    "Y = np.asarray(label_list)"
   ]
  },
  {
   "cell_type": "code",
   "execution_count": null,
   "id": "b25b5ac0",
   "metadata": {},
   "outputs": [],
   "source": [
    "X.shape,Y.shape"
   ]
  },
  {
   "cell_type": "code",
   "execution_count": null,
   "id": "de4fc70b",
   "metadata": {},
   "outputs": [],
   "source": [
    "# 存储为numpy文件\n",
    "np.savez('./data/imageData.npz',X,Y)"
   ]
  }
 ],
 "metadata": {
  "kernelspec": {
   "display_name": "Python 3 (ipykernel)",
   "language": "python",
   "name": "python3"
  },
  "language_info": {
   "codemirror_mode": {
    "name": "ipython",
    "version": 3
   },
   "file_extension": ".py",
   "mimetype": "text/x-python",
   "name": "python",
   "nbconvert_exporter": "python",
   "pygments_lexer": "ipython3",
   "version": "3.9.7"
  }
 },
 "nbformat": 4,
 "nbformat_minor": 5
}
