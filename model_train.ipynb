{
 "cells": [
  {
   "cell_type": "code",
   "execution_count": 74,
   "id": "d5402810",
   "metadata": {},
   "outputs": [],
   "source": [
    "import numpy as np"
   ]
  },
  {
   "cell_type": "code",
   "execution_count": 75,
   "id": "5a418f3b",
   "metadata": {},
   "outputs": [],
   "source": [
    "arr = np.load('./data/imageData.npz')"
   ]
  },
  {
   "cell_type": "code",
   "execution_count": 76,
   "id": "cca9a294",
   "metadata": {},
   "outputs": [],
   "source": [
    "img_list = arr['arr_0']\n",
    "label_list =arr['arr_1']"
   ]
  },
  {
   "cell_type": "code",
   "execution_count": 77,
   "id": "59e75650",
   "metadata": {},
   "outputs": [
    {
     "data": {
      "text/plain": [
       "((2799, 100, 100, 3), (2799,))"
      ]
     },
     "execution_count": 77,
     "metadata": {},
     "output_type": "execute_result"
    }
   ],
   "source": [
    "img_list.shape,label_list.shape"
   ]
  },
  {
   "cell_type": "code",
   "execution_count": 78,
   "id": "66ff10dc",
   "metadata": {},
   "outputs": [
    {
     "data": {
      "text/plain": [
       "array(['1.yes', '2.no', '3.nose'], dtype='<U6')"
      ]
     },
     "execution_count": 78,
     "metadata": {},
     "output_type": "execute_result"
    }
   ],
   "source": [
    "np.unique(label_list)"
   ]
  },
  {
   "cell_type": "code",
   "execution_count": 79,
   "id": "ee6362dd",
   "metadata": {},
   "outputs": [],
   "source": [
    "from sklearn.preprocessing import OneHotEncoder"
   ]
  },
  {
   "cell_type": "code",
   "execution_count": 80,
   "id": "9a0d61ae",
   "metadata": {},
   "outputs": [],
   "source": [
    "onehot = OneHotEncoder()"
   ]
  },
  {
   "cell_type": "code",
   "execution_count": 81,
   "id": "cd6f2b1f",
   "metadata": {},
   "outputs": [],
   "source": [
    "y_onehot =onehot.fit_transform(label_list.reshape(-1,1))"
   ]
  },
  {
   "cell_type": "code",
   "execution_count": 82,
   "id": "aa35dd58",
   "metadata": {},
   "outputs": [],
   "source": [
    "y_onehot_arr = y_onehot.toarray()"
   ]
  },
  {
   "cell_type": "code",
   "execution_count": 83,
   "id": "399879f8",
   "metadata": {},
   "outputs": [
    {
     "data": {
      "text/plain": [
       "array([[1., 0., 0.],\n",
       "       [1., 0., 0.],\n",
       "       [1., 0., 0.],\n",
       "       ...,\n",
       "       [0., 0., 1.],\n",
       "       [0., 0., 1.],\n",
       "       [0., 0., 1.]])"
      ]
     },
     "execution_count": 83,
     "metadata": {},
     "output_type": "execute_result"
    }
   ],
   "source": [
    "y_onehot_arr"
   ]
  },
  {
   "cell_type": "code",
   "execution_count": 84,
   "id": "28bb0c10",
   "metadata": {},
   "outputs": [],
   "source": [
    "from sklearn.model_selection import train_test_split"
   ]
  },
  {
   "cell_type": "code",
   "execution_count": 85,
   "id": "c6eb1c68",
   "metadata": {},
   "outputs": [],
   "source": [
    "x_train,x_test,y_train,y_test = train_test_split(img_list,y_onehot_arr,test_size=0.2,random_state=42)"
   ]
  },
  {
   "cell_type": "code",
   "execution_count": 86,
   "id": "7d27e715",
   "metadata": {},
   "outputs": [
    {
     "data": {
      "text/plain": [
       "((2239, 100, 100, 3), (560, 100, 100, 3), (2239, 3), (560, 3))"
      ]
     },
     "execution_count": 86,
     "metadata": {},
     "output_type": "execute_result"
    }
   ],
   "source": [
    "x_train.shape,x_test.shape,y_train.shape,y_test.shape"
   ]
  },
  {
   "cell_type": "code",
   "execution_count": 87,
   "id": "f230df35",
   "metadata": {},
   "outputs": [],
   "source": [
    "import tensorflow as tf\n",
    "from tensorflow.keras import layers\n",
    "from tensorflow.keras import Sequential"
   ]
  },
  {
   "cell_type": "code",
   "execution_count": 101,
   "id": "e3dca484",
   "metadata": {},
   "outputs": [],
   "source": [
    "model = Sequential(\n",
    "    [layers.Conv2D(16,3,padding='same',input_shape=(100,100,3),activation='relu'),\n",
    "    layers.MaxPool2D(),\n",
    "    layers.Conv2D(32,3,padding='same',activation='relu'),\n",
    "    layers.MaxPool2D(),\n",
    "    layers.Conv2D(64,3,padding='same',activation='relu'),\n",
    "    layers.MaxPool2D(),\n",
    "    layers.Flatten(),\n",
    "    layers.Dense(166,activation='relu'),\n",
    "    layers.Dense(22,activation='relu'),\n",
    "    layers.Dense(3,activation='sigmoid')]\n",
    ")\n",
    "model.compile(optimizer=tf.keras.optimizers.Adam(learning_rate=0.0001),loss=tf.keras.losses.categorical_crossentropy,metrics=['accuracy'])"
   ]
  },
  {
   "cell_type": "code",
   "execution_count": 102,
   "id": "cf3dd5f9",
   "metadata": {
    "scrolled": true
   },
   "outputs": [
    {
     "name": "stdout",
     "output_type": "stream",
     "text": [
      "Epoch 1/20\n",
      "75/75 [==============================] - 6s 76ms/step - loss: 0.6747 - accuracy: 0.7436 - val_loss: 0.4597 - val_accuracy: 0.8321\n",
      "Epoch 2/20\n",
      "75/75 [==============================] - 6s 75ms/step - loss: 0.3837 - accuracy: 0.8669 - val_loss: 0.3686 - val_accuracy: 0.8554\n",
      "Epoch 3/20\n",
      "75/75 [==============================] - 6s 75ms/step - loss: 0.3140 - accuracy: 0.8888 - val_loss: 0.2924 - val_accuracy: 0.8875\n",
      "Epoch 4/20\n",
      "75/75 [==============================] - 6s 74ms/step - loss: 0.2705 - accuracy: 0.9040 - val_loss: 0.3259 - val_accuracy: 0.8679\n",
      "Epoch 5/20\n",
      "75/75 [==============================] - 6s 75ms/step - loss: 0.2148 - accuracy: 0.9236 - val_loss: 0.2219 - val_accuracy: 0.9143\n",
      "Epoch 6/20\n",
      "75/75 [==============================] - 6s 75ms/step - loss: 0.1886 - accuracy: 0.9352 - val_loss: 0.2657 - val_accuracy: 0.8893\n",
      "Epoch 7/20\n",
      "75/75 [==============================] - 6s 75ms/step - loss: 0.1718 - accuracy: 0.9428 - val_loss: 0.1886 - val_accuracy: 0.9268\n",
      "Epoch 8/20\n",
      "75/75 [==============================] - 6s 76ms/step - loss: 0.1493 - accuracy: 0.9495 - val_loss: 0.1963 - val_accuracy: 0.9286\n",
      "Epoch 9/20\n",
      "75/75 [==============================] - 6s 75ms/step - loss: 0.1338 - accuracy: 0.9571 - val_loss: 0.1865 - val_accuracy: 0.9232\n",
      "Epoch 10/20\n",
      "75/75 [==============================] - 6s 75ms/step - loss: 0.1164 - accuracy: 0.9611 - val_loss: 0.1699 - val_accuracy: 0.9321\n",
      "Epoch 11/20\n",
      "75/75 [==============================] - 6s 75ms/step - loss: 0.1047 - accuracy: 0.9678 - val_loss: 0.1788 - val_accuracy: 0.9286\n",
      "Epoch 12/20\n",
      "75/75 [==============================] - 6s 75ms/step - loss: 0.1022 - accuracy: 0.9647 - val_loss: 0.1577 - val_accuracy: 0.9429\n",
      "Epoch 13/20\n",
      "75/75 [==============================] - 6s 76ms/step - loss: 0.0922 - accuracy: 0.9692 - val_loss: 0.2102 - val_accuracy: 0.9232\n",
      "Epoch 14/20\n",
      "75/75 [==============================] - 6s 76ms/step - loss: 0.0780 - accuracy: 0.9754 - val_loss: 0.1359 - val_accuracy: 0.9464\n",
      "Epoch 15/20\n",
      "75/75 [==============================] - 6s 77ms/step - loss: 0.0646 - accuracy: 0.9795 - val_loss: 0.1342 - val_accuracy: 0.9500\n",
      "Epoch 16/20\n",
      "75/75 [==============================] - 6s 76ms/step - loss: 0.0692 - accuracy: 0.9772 - val_loss: 0.1522 - val_accuracy: 0.9411\n",
      "Epoch 17/20\n",
      "75/75 [==============================] - 6s 77ms/step - loss: 0.0602 - accuracy: 0.9803 - val_loss: 0.1264 - val_accuracy: 0.9482\n",
      "Epoch 18/20\n",
      "75/75 [==============================] - 6s 76ms/step - loss: 0.0423 - accuracy: 0.9897 - val_loss: 0.1369 - val_accuracy: 0.9482\n",
      "Epoch 19/20\n",
      "75/75 [==============================] - 6s 77ms/step - loss: 0.0391 - accuracy: 0.9915 - val_loss: 0.1368 - val_accuracy: 0.9411\n",
      "Epoch 20/20\n",
      "75/75 [==============================] - 6s 77ms/step - loss: 0.0357 - accuracy: 0.9897 - val_loss: 0.1421 - val_accuracy: 0.9429\n"
     ]
    }
   ],
   "source": [
    "history = model.fit(x=x_train,y=y_train,validation_data=(x_test,y_test),batch_size=30,epochs=20)"
   ]
  },
  {
   "cell_type": "code",
   "execution_count": 103,
   "id": "e7a3fc31",
   "metadata": {},
   "outputs": [],
   "source": [
    "import pandas as pd\n",
    "import matplotlib.pyplot as plt\n",
    "%matplotlib inline"
   ]
  },
  {
   "cell_type": "code",
   "execution_count": 104,
   "id": "62d45648",
   "metadata": {},
   "outputs": [],
   "source": [
    "history_pd = pd.DataFrame(history.history)"
   ]
  },
  {
   "cell_type": "code",
   "execution_count": 105,
   "id": "45254f50",
   "metadata": {},
   "outputs": [
    {
     "data": {
      "text/html": [
       "<div>\n",
       "<style scoped>\n",
       "    .dataframe tbody tr th:only-of-type {\n",
       "        vertical-align: middle;\n",
       "    }\n",
       "\n",
       "    .dataframe tbody tr th {\n",
       "        vertical-align: top;\n",
       "    }\n",
       "\n",
       "    .dataframe thead th {\n",
       "        text-align: right;\n",
       "    }\n",
       "</style>\n",
       "<table border=\"1\" class=\"dataframe\">\n",
       "  <thead>\n",
       "    <tr style=\"text-align: right;\">\n",
       "      <th></th>\n",
       "      <th>loss</th>\n",
       "      <th>accuracy</th>\n",
       "      <th>val_loss</th>\n",
       "      <th>val_accuracy</th>\n",
       "    </tr>\n",
       "  </thead>\n",
       "  <tbody>\n",
       "    <tr>\n",
       "      <th>0</th>\n",
       "      <td>0.674671</td>\n",
       "      <td>0.743636</td>\n",
       "      <td>0.459686</td>\n",
       "      <td>0.832143</td>\n",
       "    </tr>\n",
       "    <tr>\n",
       "      <th>1</th>\n",
       "      <td>0.383708</td>\n",
       "      <td>0.866905</td>\n",
       "      <td>0.368565</td>\n",
       "      <td>0.855357</td>\n",
       "    </tr>\n",
       "    <tr>\n",
       "      <th>2</th>\n",
       "      <td>0.314020</td>\n",
       "      <td>0.888790</td>\n",
       "      <td>0.292441</td>\n",
       "      <td>0.887500</td>\n",
       "    </tr>\n",
       "    <tr>\n",
       "      <th>3</th>\n",
       "      <td>0.270500</td>\n",
       "      <td>0.903975</td>\n",
       "      <td>0.325935</td>\n",
       "      <td>0.867857</td>\n",
       "    </tr>\n",
       "    <tr>\n",
       "      <th>4</th>\n",
       "      <td>0.214755</td>\n",
       "      <td>0.923627</td>\n",
       "      <td>0.221923</td>\n",
       "      <td>0.914286</td>\n",
       "    </tr>\n",
       "    <tr>\n",
       "      <th>5</th>\n",
       "      <td>0.188616</td>\n",
       "      <td>0.935239</td>\n",
       "      <td>0.265673</td>\n",
       "      <td>0.889286</td>\n",
       "    </tr>\n",
       "    <tr>\n",
       "      <th>6</th>\n",
       "      <td>0.171846</td>\n",
       "      <td>0.942832</td>\n",
       "      <td>0.188642</td>\n",
       "      <td>0.926786</td>\n",
       "    </tr>\n",
       "    <tr>\n",
       "      <th>7</th>\n",
       "      <td>0.149263</td>\n",
       "      <td>0.949531</td>\n",
       "      <td>0.196261</td>\n",
       "      <td>0.928571</td>\n",
       "    </tr>\n",
       "    <tr>\n",
       "      <th>8</th>\n",
       "      <td>0.133827</td>\n",
       "      <td>0.957124</td>\n",
       "      <td>0.186529</td>\n",
       "      <td>0.923214</td>\n",
       "    </tr>\n",
       "    <tr>\n",
       "      <th>9</th>\n",
       "      <td>0.116384</td>\n",
       "      <td>0.961143</td>\n",
       "      <td>0.169920</td>\n",
       "      <td>0.932143</td>\n",
       "    </tr>\n",
       "    <tr>\n",
       "      <th>10</th>\n",
       "      <td>0.104650</td>\n",
       "      <td>0.967843</td>\n",
       "      <td>0.178773</td>\n",
       "      <td>0.928571</td>\n",
       "    </tr>\n",
       "    <tr>\n",
       "      <th>11</th>\n",
       "      <td>0.102234</td>\n",
       "      <td>0.964716</td>\n",
       "      <td>0.157719</td>\n",
       "      <td>0.942857</td>\n",
       "    </tr>\n",
       "    <tr>\n",
       "      <th>12</th>\n",
       "      <td>0.092234</td>\n",
       "      <td>0.969183</td>\n",
       "      <td>0.210162</td>\n",
       "      <td>0.923214</td>\n",
       "    </tr>\n",
       "    <tr>\n",
       "      <th>13</th>\n",
       "      <td>0.077981</td>\n",
       "      <td>0.975435</td>\n",
       "      <td>0.135910</td>\n",
       "      <td>0.946429</td>\n",
       "    </tr>\n",
       "    <tr>\n",
       "      <th>14</th>\n",
       "      <td>0.064555</td>\n",
       "      <td>0.979455</td>\n",
       "      <td>0.134240</td>\n",
       "      <td>0.950000</td>\n",
       "    </tr>\n",
       "    <tr>\n",
       "      <th>15</th>\n",
       "      <td>0.069180</td>\n",
       "      <td>0.977222</td>\n",
       "      <td>0.152195</td>\n",
       "      <td>0.941071</td>\n",
       "    </tr>\n",
       "    <tr>\n",
       "      <th>16</th>\n",
       "      <td>0.060226</td>\n",
       "      <td>0.980348</td>\n",
       "      <td>0.126435</td>\n",
       "      <td>0.948214</td>\n",
       "    </tr>\n",
       "    <tr>\n",
       "      <th>17</th>\n",
       "      <td>0.042312</td>\n",
       "      <td>0.989728</td>\n",
       "      <td>0.136870</td>\n",
       "      <td>0.948214</td>\n",
       "    </tr>\n",
       "    <tr>\n",
       "      <th>18</th>\n",
       "      <td>0.039072</td>\n",
       "      <td>0.991514</td>\n",
       "      <td>0.136799</td>\n",
       "      <td>0.941071</td>\n",
       "    </tr>\n",
       "    <tr>\n",
       "      <th>19</th>\n",
       "      <td>0.035721</td>\n",
       "      <td>0.989728</td>\n",
       "      <td>0.142106</td>\n",
       "      <td>0.942857</td>\n",
       "    </tr>\n",
       "  </tbody>\n",
       "</table>\n",
       "</div>"
      ],
      "text/plain": [
       "        loss  accuracy  val_loss  val_accuracy\n",
       "0   0.674671  0.743636  0.459686      0.832143\n",
       "1   0.383708  0.866905  0.368565      0.855357\n",
       "2   0.314020  0.888790  0.292441      0.887500\n",
       "3   0.270500  0.903975  0.325935      0.867857\n",
       "4   0.214755  0.923627  0.221923      0.914286\n",
       "5   0.188616  0.935239  0.265673      0.889286\n",
       "6   0.171846  0.942832  0.188642      0.926786\n",
       "7   0.149263  0.949531  0.196261      0.928571\n",
       "8   0.133827  0.957124  0.186529      0.923214\n",
       "9   0.116384  0.961143  0.169920      0.932143\n",
       "10  0.104650  0.967843  0.178773      0.928571\n",
       "11  0.102234  0.964716  0.157719      0.942857\n",
       "12  0.092234  0.969183  0.210162      0.923214\n",
       "13  0.077981  0.975435  0.135910      0.946429\n",
       "14  0.064555  0.979455  0.134240      0.950000\n",
       "15  0.069180  0.977222  0.152195      0.941071\n",
       "16  0.060226  0.980348  0.126435      0.948214\n",
       "17  0.042312  0.989728  0.136870      0.948214\n",
       "18  0.039072  0.991514  0.136799      0.941071\n",
       "19  0.035721  0.989728  0.142106      0.942857"
      ]
     },
     "execution_count": 105,
     "metadata": {},
     "output_type": "execute_result"
    }
   ],
   "source": [
    "history_pd"
   ]
  },
  {
   "cell_type": "code",
   "execution_count": 106,
   "id": "9923f92c",
   "metadata": {},
   "outputs": [
    {
     "data": {
      "image/png": "[encoded data removed]",
      "text/plain": [
       "<Figure size 432x288 with 1 Axes>"
      ]
     },
     "metadata": {
      "needs_background": "light"
     },
     "output_type": "display_data"
    }
   ],
   "source": [
    "#cheack the loss\n",
    "plt.plot(history_pd['loss'])\n",
    "plt.plot(history_pd['val_loss'])\n",
    "plt.title('Loss')\n",
    "plt.xlabel('epoch')\n",
    "plt.ylabel('loss')\n",
    "plt.legend(['train set','test set'],loc='upper right')\n",
    "plt.show()"
   ]
  },
  {
   "cell_type": "code",
   "execution_count": 107,
   "id": "f8b15ab3",
   "metadata": {},
   "outputs": [
    {
     "data": {
      "image/png": "[encoded data removed]",
      "text/plain": [
       "<Figure size 432x288 with 1 Axes>"
      ]
     },
     "metadata": {
      "needs_background": "light"
     },
     "output_type": "display_data"
    }
   ],
   "source": [
    "# cheack the accuracy\n",
    "plt.plot(history_pd['accuracy'])\n",
    "plt.plot(history_pd['val_accuracy'])\n",
    "plt.title('Accuracy')\n",
    "plt.xlabel('epoch')\n",
    "plt.ylabel('accuracy')\n",
    "plt.legend(['train set','test set'],loc='upper right')\n",
    "plt.show()"
   ]
  },
  {
   "cell_type": "code",
   "execution_count": 56,
   "id": "19c3fd70",
   "metadata": {},
   "outputs": [],
   "source": [
    "model.save('./data/face_mask_model.h5')"
   ]
  },
  {
   "cell_type": "code",
   "execution_count": null,
   "id": "b46b726d",
   "metadata": {},
   "outputs": [],
   "source": []
  },
  {
   "cell_type": "code",
   "execution_count": null,
   "id": "e7cbd4ae",
   "metadata": {},
   "outputs": [],
   "source": []
  }
 ],
 "metadata": {
  "kernelspec": {
   "display_name": "Python 3 (ipykernel)",
   "language": "python",
   "name": "python3"
  },
  "language_info": {
   "codemirror_mode": {
    "name": "ipython",
    "version": 3
   },
   "file_extension": ".py",
   "mimetype": "text/x-python",
   "name": "python",
   "nbconvert_exporter": "python",
   "pygments_lexer": "ipython3",
   "version": "3.9.7"
  }
 },
 "nbformat": 4,
 "nbformat_minor": 5
}
